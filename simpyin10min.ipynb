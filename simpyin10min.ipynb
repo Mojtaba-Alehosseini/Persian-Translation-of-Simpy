{
 "cells": [
  {
   "cell_type": "code",
   "execution_count": 24,
   "metadata": {},
   "outputs": [
    {
     "name": "stdout",
     "output_type": "stream",
     "text": [
      "Start parking at 0\n",
      "Start driving at 5\n",
      "Start parking at 7\n",
      "Start driving at 12\n",
      "Start parking at 14\n"
     ]
    }
   ],
   "source": [
    ">>> def car(env):\n",
    "...    while True:\n",
    "...        print('Start parking at %d' % env.now)\n",
    "...        parking_duration = 5\n",
    "...        yield env.timeout(parking_duration)\n",
    "...\n",
    "...        print('Start driving at %d' % env.now)\n",
    "...        trip_duration = 2\n",
    "...        yield env.timeout(trip_duration)\n",
    "\n",
    ">>> import simpy\n",
    ">>> env = simpy.Environment()\n",
    ">>> env.process(car(env))\n",
    ">>> env.run(until=15)"
   ]
  },
  {
   "cell_type": "code",
   "execution_count": 3,
   "metadata": {},
   "outputs": [
    {
     "name": "stdout",
     "output_type": "stream",
     "text": [
      "Start parking and charging at 0\n",
      "Start driving at 5\n",
      "Start parking and charging at 7\n",
      "Start driving at 12\n",
      "Start parking and charging at 14\n"
     ]
    }
   ],
   "source": [
    ">>> class Car(object):\n",
    "...     def __init__(self, env):\n",
    "...         self.env = env\n",
    "...         # Start the run process everytime an instance is created.\n",
    "...         self.action = env.process(self.run())\n",
    "...\n",
    "...     def run(self):\n",
    "...         while True:\n",
    "...             print('Start parking and charging at %d' % self.env.now)\n",
    "...             charge_duration = 5\n",
    "...             # We yield the process that process() returns\n",
    "...             # to wait for it to finish\n",
    "...             yield self.env.process(self.charge(charge_duration))\n",
    "...\n",
    "...             # The charge process has finished and\n",
    "...             # we can start driving again.\n",
    "...             print('Start driving at %d' % self.env.now)\n",
    "...             trip_duration = 2\n",
    "...             yield self.env.timeout(trip_duration)\n",
    "...\n",
    "...     def charge(self, duration):\n",
    "...         yield self.env.timeout(duration)\n",
    ">>> import simpy\n",
    ">>> env = simpy.Environment()\n",
    ">>> car = Car(env)\n",
    ">>> env.run(until=15)"
   ]
  },
  {
   "cell_type": "code",
   "execution_count": 8,
   "metadata": {},
   "outputs": [
    {
     "name": "stdout",
     "output_type": "stream",
     "text": [
      "Start parking and charging at 0\n",
      "Was interrupted. Hope, the battery is full enough ...\n",
      "Start driving at 3\n",
      "Start parking and charging at 5\n",
      "Start driving at 10\n",
      "Start parking and charging at 12\n"
     ]
    }
   ],
   "source": [
    ">>> def driver(env, car):\n",
    "...     yield env.timeout(3)\n",
    "...     car.action.interrupt()\n",
    ">>> class Car(object):\n",
    "...     def __init__(self, env):\n",
    "...         self.env = env\n",
    "...         self.action = env.process(self.run())\n",
    "...\n",
    "...     def run(self):\n",
    "...         while True:\n",
    "...             print('Start parking and charging at %d' % self.env.now)\n",
    "...             charge_duration = 5\n",
    "...             # We may get interrupted while charging the battery\n",
    "...             try:\n",
    "...                 yield self.env.process(self.charge(charge_duration))\n",
    "...             except simpy.Interrupt:\n",
    "...                 # When we received an interrupt, we stop charging and\n",
    "...                 # switch to the \"driving\" state\n",
    "...                 print('Was interrupted. Hope, the battery is full enough ...')\n",
    "...\n",
    "...             print('Start driving at %d' % self.env.now)\n",
    "...             trip_duration = 2\n",
    "...             yield self.env.timeout(trip_duration)\n",
    "...\n",
    "...     def charge(self, duration):\n",
    "...         yield self.env.timeout(duration)\n",
    ">>> env = simpy.Environment()\n",
    ">>> car = Car(env)\n",
    ">>> env.process(driver(env, car))\n",
    ">>> env.run(until=15)"
   ]
  },
  {
   "cell_type": "code",
   "execution_count": 9,
   "metadata": {},
   "outputs": [
    {
     "name": "stdout",
     "output_type": "stream",
     "text": [
      "Car 0 arriving at 0\n",
      "Car 0 starting to charge at 0\n",
      "Car 1 arriving at 2\n",
      "Car 1 starting to charge at 2\n",
      "Car 2 arriving at 4\n",
      "Car 0 leaving the bcs at 5\n",
      "Car 2 starting to charge at 5\n",
      "Car 3 arriving at 6\n",
      "Car 1 leaving the bcs at 7\n",
      "Car 3 starting to charge at 7\n",
      "Car 2 leaving the bcs at 10\n",
      "Car 3 leaving the bcs at 12\n"
     ]
    }
   ],
   "source": [
    ">>> def car(env, name, bcs, driving_time, charge_duration):\n",
    "...     # Simulate driving to the BCS\n",
    "...     yield env.timeout(driving_time)\n",
    "...\n",
    "...     # Request one of its charging spots\n",
    "...     print('%s arriving at %d' % (name, env.now))\n",
    "...     with bcs.request() as req:\n",
    "...         yield req\n",
    "...\n",
    "...         # Charge the battery\n",
    "...         print('%s starting to charge at %s' % (name, env.now))\n",
    "...         yield env.timeout(charge_duration)\n",
    "...         print('%s leaving the bcs at %s' % (name, env.now))\n",
    ">>> import simpy\n",
    ">>> env = simpy.Environment()\n",
    ">>> bcs = simpy.Resource(env, capacity=2)\n",
    ">>> for i in range(4):\n",
    "...     env.process(car(env, 'Car %d' % i, bcs, i*2, 5))\n",
    ">>> env.run()"
   ]
  },
  {
   "cell_type": "code",
   "execution_count": 11,
   "metadata": {},
   "outputs": [
    {
     "name": "stdout",
     "output_type": "stream",
     "text": [
      "now=1, value=42\n"
     ]
    }
   ],
   "source": [
    ">>> import simpy\n",
    ">>>\n",
    ">>> def example(env):\n",
    "...     value = yield env.timeout(1, value=42)\n",
    "...     print('now=%d, value=%d' % (env.now, value))\n",
    ">>>\n",
    ">>> env = simpy.Environment()\n",
    ">>> p = env.process(example(env))\n",
    ">>> env.run()"
   ]
  },
  {
   "cell_type": "code",
   "execution_count": 13,
   "metadata": {},
   "outputs": [
    {
     "name": "stdout",
     "output_type": "stream",
     "text": [
      "now=1, value=42\n"
     ]
    }
   ],
   "source": [
    ">>> import simpy\n",
    ">>>\n",
    ">>> def example(env):\n",
    "...     event = simpy.events.Timeout(env, delay=1, value=42)\n",
    "...     value = yield event\n",
    "...     print('now=%d, value=%d' % (env.now, value))\n",
    ">>>\n",
    ">>> env = simpy.Environment()\n",
    ">>> example_gen = example(env)\n",
    ">>> p = simpy.events.Process(env, example_gen)\n",
    ">>>\n",
    ">>> env.run()"
   ]
  },
  {
   "cell_type": "code",
   "execution_count": 15,
   "metadata": {},
   "outputs": [
    {
     "data": {
      "text/plain": [
       "'Monty Python’s Flying Circus'"
      ]
     },
     "execution_count": 15,
     "metadata": {},
     "output_type": "execute_result"
    }
   ],
   "source": [
    ">>> import simpy\n",
    ">>>\n",
    ">>> def my_proc(env):\n",
    "...     yield env.timeout(1)\n",
    "...     return 'Monty Python’s Flying Circus'\n",
    ">>>\n",
    ">>> env = simpy.Environment()\n",
    ">>> proc = env.process(my_proc(env))\n",
    ">>> env.run(until=proc)"
   ]
  },
  {
   "cell_type": "code",
   "execution_count": 17,
   "metadata": {},
   "outputs": [
    {
     "data": {
      "text/plain": [
       "[<function __main__.my_callback(event)>]"
      ]
     },
     "execution_count": 17,
     "metadata": {},
     "output_type": "execute_result"
    }
   ],
   "source": [
    ">>> import simpy\n",
    ">>>\n",
    ">>> def my_callback(event):\n",
    "...     print('Called back from', event)\n",
    "...\n",
    ">>> env = simpy.Environment()\n",
    ">>> event = env.event()\n",
    ">>> event.callbacks.append(my_callback)\n",
    ">>> event.callbacks"
   ]
  },
  {
   "cell_type": "code",
   "execution_count": 18,
   "metadata": {},
   "outputs": [
    {
     "name": "stdout",
     "output_type": "stream",
     "text": [
      " \\o/ \\o/ \\o/\n",
      " \\o/ \\o/ \\o/\n"
     ]
    }
   ],
   "source": [
    ">>> class School:\n",
    "...     def __init__(self, env):\n",
    "...         self.env = env\n",
    "...         self.class_ends = env.event()\n",
    "...         self.pupil_procs = [env.process(self.pupil()) for i in range(3)]\n",
    "...         self.bell_proc = env.process(self.bell())\n",
    "...\n",
    "...     def bell(self):\n",
    "...         for i in range(2):\n",
    "...             yield self.env.timeout(45)\n",
    "...             self.class_ends.succeed()\n",
    "...             self.class_ends = self.env.event()\n",
    "...             print()\n",
    "...\n",
    "...     def pupil(self):\n",
    "...         for i in range(2):\n",
    "...             print(r' \\o/', end='')\n",
    "...             yield self.class_ends\n",
    "...\n",
    ">>> school = School(env)\n",
    ">>> env.run()"
   ]
  },
  {
   "cell_type": "code",
   "execution_count": 21,
   "metadata": {},
   "outputs": [
    {
     "data": {
      "text/plain": [
       "23"
      ]
     },
     "execution_count": 21,
     "metadata": {},
     "output_type": "execute_result"
    }
   ],
   "source": [
    ">>> from simpy.util import start_delayed\n",
    ">>>\n",
    ">>> def sub(env):\n",
    "...     yield env.timeout(1)\n",
    "...     return 23\n",
    "...\n",
    ">>> def parent(env):\n",
    "...     sub_proc = yield start_delayed(env, sub(env), delay=3)\n",
    "...     ret = yield sub_proc\n",
    "...     return ret\n",
    "...\n",
    ">>> env.run(env.process(parent(env)))"
   ]
  },
  {
   "cell_type": "code",
   "execution_count": 22,
   "metadata": {},
   "outputs": [
    {
     "name": "stdout",
     "output_type": "stream",
     "text": [
      "Bat. ctrl. passivating at 0\n",
      "Start parking at 29\n",
      "Bat. ctrl. reactivated at 29\n",
      "Bat. ctrl. passivating at 60\n",
      "Stop parking at 131\n"
     ]
    }
   ],
   "source": [
    ">>> from random import seed, randint\n",
    ">>> seed(23)\n",
    ">>>\n",
    ">>> import simpy\n",
    ">>>\n",
    ">>> class EV:\n",
    "...     def __init__(self, env):\n",
    "...         self.env = env\n",
    "...         self.drive_proc = env.process(self.drive(env))\n",
    "...         self.bat_ctrl_proc = env.process(self.bat_ctrl(env))\n",
    "...         self.bat_ctrl_reactivate = env.event()\n",
    "...\n",
    "...     def drive(self, env):\n",
    "...         while True:\n",
    "...             # Drive for 20-40 min\n",
    "...             yield env.timeout(randint(20, 40))\n",
    "...\n",
    "...             # Park for 1–6 hours\n",
    "...             print('Start parking at', env.now)\n",
    "...             self.bat_ctrl_reactivate.succeed()  # \"reactivate\"\n",
    "...             self.bat_ctrl_reactivate = env.event()\n",
    "...             yield env.timeout(randint(60, 360))\n",
    "...             print('Stop parking at', env.now)\n",
    "...\n",
    "...     def bat_ctrl(self, env):\n",
    "...         while True:\n",
    "...             print('Bat. ctrl. passivating at', env.now)\n",
    "...             yield self.bat_ctrl_reactivate  # \"passivate\"\n",
    "...             print('Bat. ctrl. reactivated at', env.now)\n",
    "...\n",
    "...             # Intelligent charging behavior here …\n",
    "...             yield env.timeout(randint(30, 90))\n",
    "...\n",
    ">>> env = simpy.Environment()\n",
    ">>> ev = EV(env)\n",
    ">>> env.run(until=150)"
   ]
  },
  {
   "cell_type": "code",
   "execution_count": 23,
   "metadata": {},
   "outputs": [
    {
     "name": "stdout",
     "output_type": "stream",
     "text": [
      "Start parking at 29\n",
      "Bat. ctrl. started at 29\n",
      "Bat. ctrl. done at 83\n",
      "Stop parking at 305\n"
     ]
    }
   ],
   "source": [
    ">>> class EV:\n",
    "...     def __init__(self, env):\n",
    "...         self.env = env\n",
    "...         self.drive_proc = env.process(self.drive(env))\n",
    "...\n",
    "...     def drive(self, env):\n",
    "...         while True:\n",
    "...             # Drive for 20-40 min\n",
    "...             yield env.timeout(randint(20, 40))\n",
    "...\n",
    "...             # Park for 1–6 hours\n",
    "...             print('Start parking at', env.now)\n",
    "...             charging = env.process(self.bat_ctrl(env))\n",
    "...             parking = env.timeout(randint(60, 360))\n",
    "...             yield charging & parking\n",
    "...             print('Stop parking at', env.now)\n",
    "...\n",
    "...     def bat_ctrl(self, env):\n",
    "...         print('Bat. ctrl. started at', env.now)\n",
    "...         # Intelligent charging behavior here …\n",
    "...         yield env.timeout(randint(30, 90))\n",
    "...         print('Bat. ctrl. done at', env.now)\n",
    "...\n",
    ">>> env = simpy.Environment()\n",
    ">>> ev = EV(env)\n",
    ">>> env.run(until=310)"
   ]
  },
  {
   "cell_type": "code",
   "execution_count": 26,
   "metadata": {},
   "outputs": [
    {
     "name": "stdout",
     "output_type": "stream",
     "text": [
      "fast 0\n",
      "slow 0\n",
      "fast 0.5\n",
      "slow 1\n",
      "fast 1.0\n",
      "fast 1.5\n"
     ]
    }
   ],
   "source": [
    ">>> import simpy\n",
    ">>>\n",
    ">>> def clock(env, name, tick):\n",
    "...     while True:\n",
    "...         print(name, env.now)\n",
    "...         yield env.timeout(tick)\n",
    "...\n",
    ">>> env = simpy.Environment()\n",
    ">>> env.process(clock(env, 'fast', 0.5))\n",
    "\n",
    ">>> env.process(clock(env, 'slow', 1))\n",
    "\n",
    ">>> env.run(until=2)"
   ]
  },
  {
   "cell_type": "code",
   "execution_count": 6,
   "metadata": {},
   "outputs": [
    {
     "name": "stdout",
     "output_type": "stream",
     "text": [
      "Bank renege\n",
      " 0.0000 Customer00: Here I am\n",
      " 0.0000 Customer00: Waited  0.000\n",
      " 3.8595 Customer00: Finished\n",
      "10.2006 Customer01: Here I am\n",
      "10.2006 Customer01: Waited  0.000\n",
      "12.7265 Customer02: Here I am\n",
      "13.9003 Customer02: RENEGED after  1.174\n",
      "23.7507 Customer01: Finished\n",
      "34.9993 Customer03: Here I am\n",
      "34.9993 Customer03: Waited  0.000\n",
      "37.9599 Customer03: Finished\n",
      "40.4798 Customer04: Here I am\n",
      "40.4798 Customer04: Waited  0.000\n",
      "43.1401 Customer04: Finished\n"
     ]
    }
   ],
   "source": [
    "import random\n",
    "\n",
    "import simpy\n",
    "\n",
    "\n",
    "RANDOM_SEED = 42\n",
    "NEW_CUSTOMERS = 5  # Total number of customers\n",
    "INTERVAL_CUSTOMERS = 10.0  # Generate new customers roughly every x seconds\n",
    "MIN_PATIENCE = 1  # Min. customer patience\n",
    "MAX_PATIENCE = 3  # Max. customer patience\n",
    "\n",
    "\n",
    "def source(env, number, interval, counter):\n",
    "    \"\"\"Source generates customers randomly\"\"\"\n",
    "    for i in range(number):\n",
    "        c = customer(env, 'Customer%02d' % i, counter, time_in_bank=12.0)\n",
    "        env.process(c)\n",
    "        t = random.expovariate(1.0 / interval)\n",
    "        yield env.timeout(t)\n",
    "\n",
    "\n",
    "def customer(env, name, counter, time_in_bank):\n",
    "    \"\"\"Customer arrives, is served and leaves.\"\"\"\n",
    "    arrive = env.now\n",
    "    print('%7.4f %s: Here I am' % (arrive, name))\n",
    "\n",
    "    with counter.request() as req:\n",
    "        patience = random.uniform(MIN_PATIENCE, MAX_PATIENCE)\n",
    "        # Wait for the counter or abort at the end of our tether\n",
    "        results = yield req | env.timeout(patience)\n",
    "\n",
    "        wait = env.now - arrive\n",
    "\n",
    "        if req in results:\n",
    "            # We got to the counter\n",
    "            print('%7.4f %s: Waited %6.3f' % (env.now, name, wait))\n",
    "\n",
    "            tib = random.expovariate(1.0 / time_in_bank)\n",
    "            yield env.timeout(tib)\n",
    "            print('%7.4f %s: Finished' % (env.now, name))\n",
    "\n",
    "        else:\n",
    "            # We reneged\n",
    "            print('%7.4f %s: RENEGED after %6.3f' % (env.now, name, wait))\n",
    "\n",
    "\n",
    "# Setup and start the simulation\n",
    "print('Bank renege')\n",
    "random.seed(RANDOM_SEED)\n",
    "env = simpy.Environment()\n",
    "\n",
    "# Start processes and run\n",
    "counter = simpy.Resource(env, capacity=1)\n",
    "env.process(source(env, NEW_CUSTOMERS, INTERVAL_CUSTOMERS, counter))\n",
    "env.run()"
   ]
  },
  {
   "cell_type": "code",
   "execution_count": 11,
   "metadata": {},
   "outputs": [
    {
     "name": "stdout",
     "output_type": "stream",
     "text": [
      "<Process(my_proc) object at 0x1e0c5f84790>\n",
      "<Process(my_proc) object at 0x1e0c5f84790>\n"
     ]
    }
   ],
   "source": [
    ">>> def subfunc(env):\n",
    "...     print(env.active_process)  # will print \"p1\"\n",
    ">>>\n",
    ">>> def my_proc(env):\n",
    "...     while True:\n",
    "...         print(env.active_process)  # will print \"p1\"\n",
    "...         subfunc(env)\n",
    "...         yield env.timeout(1)\n",
    ">>>\n",
    ">>> env = simpy.Environment()\n",
    ">>> p1 = env.process(my_proc(env))\n",
    ">>> env.active_process  # None\n",
    ">>> env.step()\n",
    "\n",
    ">>> env.active_process  # None"
   ]
  },
  {
   "cell_type": "code",
   "execution_count": 18,
   "metadata": {},
   "outputs": [
    {
     "data": {
      "text/plain": [
       "[<function __main__.my_callback(event)>]"
      ]
     },
     "execution_count": 18,
     "metadata": {},
     "output_type": "execute_result"
    }
   ],
   "source": [
    ">>> import simpy\n",
    ">>>\n",
    ">>> def my_callback(event):\n",
    "...     print('Called back from', event)\n",
    "...\n",
    ">>> env = simpy.Environment()\n",
    ">>> event = env.event()\n",
    ">>> event.callbacks.append(my_callback)\n",
    ">>> event.callbacks"
   ]
  },
  {
   "cell_type": "code",
   "execution_count": 21,
   "metadata": {},
   "outputs": [
    {
     "name": "stdout",
     "output_type": "stream",
     "text": [
      "0 of 1 slots are allocated.\n",
      "  Users: []\n",
      "  Queued events: []\n",
      "1 of 1 slots are allocated.\n",
      "  Users: [<Request() object at 0x1e0c63bcb80>]\n",
      "  Queued events: []\n",
      "1 of 1 slots are allocated.\n",
      "  Users: [<Request() object at 0x1e0c63bcb80>]\n",
      "  Queued events: [<Request() object at 0x1e0c63bc250>]\n",
      "0 of 1 slots are allocated.\n",
      "  Users: []\n",
      "  Queued events: [<Request() object at 0x1e0c63bc250>]\n",
      "1 of 1 slots are allocated.\n",
      "  Users: [<Request() object at 0x1e0c63bc250>]\n",
      "  Queued events: []\n",
      "0 of 1 slots are allocated.\n",
      "  Users: []\n",
      "  Queued events: []\n"
     ]
    }
   ],
   "source": [
    ">>> import simpy\n",
    ">>>\n",
    ">>> def resource_user(env, resource):\n",
    "...     request = resource.request()  # Generate a request event\n",
    "...     yield request                 # Wait for access\n",
    "...     yield env.timeout(1)          # Do something\n",
    "...     resource.release(request)     # Release the resource\n",
    "...\n",
    ">>> env = simpy.Environment()\n",
    ">>> res = simpy.Resource(env, capacity=1)\n",
    ">>> user = env.process(resource_user(env, res))\n",
    "\n",
    ">>> def resource_user(env, resource):\n",
    "...     with resource.request() as req:  # Generate a request event\n",
    "...         yield req                    # Wait for access\n",
    "...         yield env.timeout(1)         # Do something\n",
    "...                                      # Resource released automatically\n",
    ">>> user = env.process(resource_user(env, res))\n",
    "\n",
    ">>> res = simpy.Resource(env, capacity=1)\n",
    ">>>\n",
    ">>> def print_stats(res):\n",
    "...     print(f'{res.count} of {res.capacity} slots are allocated.')\n",
    "...     print(f'  Users: {res.users}')\n",
    "...     print(f'  Queued events: {res.queue}')\n",
    ">>>\n",
    ">>>\n",
    ">>> def user(res):\n",
    "...     print_stats(res)\n",
    "...     with res.request() as req:\n",
    "...         yield req\n",
    "...         print_stats(res)\n",
    "...     print_stats(res)\n",
    ">>>\n",
    ">>> procs = [env.process(user(res)), env.process(user(res))]\n",
    ">>> env.run()"
   ]
  },
  {
   "cell_type": "code",
   "execution_count": 22,
   "metadata": {},
   "outputs": [
    {
     "name": "stdout",
     "output_type": "stream",
     "text": [
      "1 requesting at 0 with priority=0\n",
      "1 got resource at 0\n",
      "2 requesting at 1 with priority=0\n",
      "3 requesting at 2 with priority=-1\n",
      "3 got resource at 3\n",
      "2 got resource at 6\n"
     ]
    }
   ],
   "source": [
    ">>> def resource_user(name, env, resource, wait, prio):\n",
    "...     yield env.timeout(wait)\n",
    "...     with resource.request(priority=prio) as req:\n",
    "...         print(f'{name} requesting at {env.now} with priority={prio}')\n",
    "...         yield req\n",
    "...         print(f'{name} got resource at {env.now}')\n",
    "...         yield env.timeout(3)\n",
    "...\n",
    ">>> env = simpy.Environment()\n",
    ">>> res = simpy.PriorityResource(env, capacity=1)\n",
    ">>> p1 = env.process(resource_user(1, env, res, wait=0, prio=0))\n",
    ">>> p2 = env.process(resource_user(2, env, res, wait=1, prio=0))\n",
    ">>> p3 = env.process(resource_user(3, env, res, wait=2, prio=-1))\n",
    ">>> env.run()"
   ]
  },
  {
   "cell_type": "code",
   "execution_count": 23,
   "metadata": {},
   "outputs": [
    {
     "name": "stdout",
     "output_type": "stream",
     "text": [
      "1 requesting at 0 with priority=0\n",
      "1 got resource at 0\n",
      "2 requesting at 1 with priority=0\n",
      "3 requesting at 2 with priority=-1\n",
      "1 got preempted by <Process(resource_user) object at 0x1e0c63130d0> at 2 after 2\n",
      "3 got resource at 2\n",
      "2 got resource at 5\n"
     ]
    }
   ],
   "source": [
    ">>> def resource_user(name, env, resource, wait, prio):\n",
    "...     yield env.timeout(wait)\n",
    "...     with resource.request(priority=prio) as req:\n",
    "...         print(f'{name} requesting at {env.now} with priority={prio}')\n",
    "...         yield req\n",
    "...         print(f'{name} got resource at {env.now}')\n",
    "...         try:\n",
    "...             yield env.timeout(3)\n",
    "...         except simpy.Interrupt as interrupt:\n",
    "...             by = interrupt.cause.by\n",
    "...             usage = env.now - interrupt.cause.usage_since\n",
    "...             print(f'{name} got preempted by {by} at {env.now}'\n",
    "...                   f' after {usage}')\n",
    "...\n",
    ">>> env = simpy.Environment()\n",
    ">>> res = simpy.PreemptiveResource(env, capacity=1)\n",
    ">>> p1 = env.process(resource_user(1, env, res, wait=0, prio=0))\n",
    ">>> p2 = env.process(resource_user(2, env, res, wait=1, prio=0))\n",
    ">>> p3 = env.process(resource_user(3, env, res, wait=2, prio=-1))\n",
    ">>> env.run()"
   ]
  },
  {
   "cell_type": "code",
   "execution_count": 25,
   "metadata": {},
   "outputs": [
    {
     "name": "stdout",
     "output_type": "stream",
     "text": [
      "A requesting at 0\n",
      "A got resource at 0\n",
      "B requesting at 1\n",
      "C requesting at 1\n",
      "B got resource at 3\n",
      "C got resource at 6\n"
     ]
    }
   ],
   "source": [
    ">>> def user(name, env, res, prio, preempt):\n",
    "...     with res.request(priority=prio, preempt=preempt) as req:\n",
    "...         try:\n",
    "...             print(f'{name} requesting at {env.now}')\n",
    "...             assert isinstance(env.now, int), type(env.now)\n",
    "...             yield req\n",
    "...             assert isinstance(env.now, int), type(env.now)\n",
    "...             print(f'{name} got resource at {env.now}')\n",
    "...             yield env.timeout(3)\n",
    "...         except simpy.Interrupt:\n",
    "...             print(f'{name} got preempted at {env.now}')\n",
    ">>>\n",
    ">>> env = simpy.Environment()\n",
    ">>> res = simpy.PreemptiveResource(env, capacity=1)\n",
    ">>> A = env.process(user('A', env, res, prio=0, preempt=True))\n",
    ">>> env.run(until=1)  # Give A a head start\n",
    ">>> B = env.process(user('B', env, res, prio=-2, preempt=False))\n",
    ">>> C = env.process(user('C', env, res, prio=-1, preempt=True))\n",
    ">>> env.run()"
   ]
  },
  {
   "cell_type": "code",
   "execution_count": 26,
   "metadata": {},
   "outputs": [
    {
     "name": "stdout",
     "output_type": "stream",
     "text": [
      "Car 0 arriving at 0\n",
      "Car 0 starts refueling at 0\n",
      "Car 1 arriving at 5\n",
      "Car 0 done refueling at 5\n",
      "Car 1 starts refueling at 5\n",
      "Car 2 arriving at 10\n",
      "Car 1 done refueling at 10\n",
      "Car 2 starts refueling at 10\n",
      "Calling tanker at 15\n",
      "Car 3 arriving at 15\n",
      "Car 3 starts refueling at 15\n",
      "Tanker arriving at 25\n",
      "Car 2 done refueling at 30\n",
      "Car 3 done refueling at 30\n"
     ]
    }
   ],
   "source": [
    ">>> class GasStation:\n",
    "...     def __init__(self, env):\n",
    "...         self.fuel_dispensers = simpy.Resource(env, capacity=2)\n",
    "...         self.gas_tank = simpy.Container(env, init=100, capacity=1000)\n",
    "...         self.mon_proc = env.process(self.monitor_tank(env))\n",
    "...\n",
    "...     def monitor_tank(self, env):\n",
    "...         while True:\n",
    "...             if self.gas_tank.level < 100:\n",
    "...                 print(f'Calling tanker at {env.now}')\n",
    "...                 env.process(tanker(env, self))\n",
    "...             yield env.timeout(15)\n",
    ">>>\n",
    ">>>\n",
    ">>> def tanker(env, gas_station):\n",
    "...     yield env.timeout(10)  # Need 10 Minutes to arrive\n",
    "...     print(f'Tanker arriving at {env.now}')\n",
    "...     amount = gas_station.gas_tank.capacity - gas_station.gas_tank.level\n",
    "...     yield gas_station.gas_tank.put(amount)\n",
    ">>>\n",
    ">>>\n",
    ">>> def car(name, env, gas_station):\n",
    "...     print(f'Car {name} arriving at {env.now}')\n",
    "...     with gas_station.fuel_dispensers.request() as req:\n",
    "...         yield req\n",
    "...         print(f'Car {name} starts refueling at {env.now}')\n",
    "...         yield gas_station.gas_tank.get(40)\n",
    "...         yield env.timeout(5)\n",
    "...         print(f'Car {name} done refueling at {env.now}')\n",
    ">>>\n",
    ">>>\n",
    ">>> def car_generator(env, gas_station):\n",
    "...     for i in range(4):\n",
    "...         env.process(car(i, env, gas_station))\n",
    "...         yield env.timeout(5)\n",
    ">>>\n",
    ">>>\n",
    ">>> env = simpy.Environment()\n",
    ">>> gas_station = GasStation(env)\n",
    ">>> car_gen = env.process(car_generator(env, gas_station))\n",
    ">>> env.run(35)"
   ]
  },
  {
   "cell_type": "code",
   "execution_count": 27,
   "metadata": {},
   "outputs": [
    {
     "name": "stdout",
     "output_type": "stream",
     "text": [
      "0 requesting spam at 1\n",
      "1 requesting spam at 1\n",
      "Produced spam at 2\n",
      "0 got spam 0 at 2\n",
      "0 requesting spam at 3\n",
      "Produced spam at 4\n",
      "1 got spam 1 at 4\n"
     ]
    }
   ],
   "source": [
    ">>> def producer(env, store):\n",
    "...     for i in range(100):\n",
    "...         yield env.timeout(2)\n",
    "...         yield store.put(f'spam {i}')\n",
    "...         print(f'Produced spam at', env.now)\n",
    ">>>\n",
    ">>>\n",
    ">>> def consumer(name, env, store):\n",
    "...     while True:\n",
    "...         yield env.timeout(1)\n",
    "...         print(name, 'requesting spam at', env.now)\n",
    "...         item = yield store.get()\n",
    "...         print(name, 'got', item, 'at', env.now)\n",
    ">>>\n",
    ">>>\n",
    ">>> env = simpy.Environment()\n",
    ">>> store = simpy.Store(env, capacity=2)\n",
    ">>>\n",
    ">>> prod = env.process(producer(env, store))\n",
    ">>> consumers = [env.process(consumer(i, env, store)) for i in range(2)]\n",
    ">>>\n",
    ">>> env.run(until=5)"
   ]
  },
  {
   "cell_type": "code",
   "execution_count": 28,
   "metadata": {},
   "outputs": [
    {
     "name": "stdout",
     "output_type": "stream",
     "text": [
      "0 got Machine(size=1, duration=2) at 0\n",
      "1 got Machine(size=2, duration=1) at 0\n",
      "1 released Machine(size=2, duration=1) at 1\n",
      "0 released Machine(size=1, duration=2) at 2\n",
      "2 got Machine(size=1, duration=2) at 2\n",
      "2 released Machine(size=1, duration=2) at 4\n"
     ]
    }
   ],
   "source": [
    ">>> from collections import namedtuple\n",
    ">>>\n",
    ">>> Machine = namedtuple('Machine', 'size, duration')\n",
    ">>> m1 = Machine(1, 2)  # Small and slow\n",
    ">>> m2 = Machine(2, 1)  # Big and fast\n",
    ">>>\n",
    ">>> env = simpy.Environment()\n",
    ">>> machine_shop = simpy.FilterStore(env, capacity=2)\n",
    ">>> machine_shop.items = [m1, m2]  # Pre-populate the machine shop\n",
    ">>>\n",
    ">>> def user(name, env, ms, size):\n",
    "...     machine = yield ms.get(lambda machine: machine.size == size)\n",
    "...     print(name, 'got', machine, 'at', env.now)\n",
    "...     yield env.timeout(machine.duration)\n",
    "...     yield ms.put(machine)\n",
    "...     print(name, 'released', machine, 'at', env.now)\n",
    ">>>\n",
    ">>>\n",
    ">>> users = [env.process(user(i, env, machine_shop, (i % 2) + 1))\n",
    "...          for i in range(3)]\n",
    ">>> env.run()"
   ]
  },
  {
   "cell_type": "code",
   "execution_count": 29,
   "metadata": {},
   "outputs": [
    {
     "name": "stdout",
     "output_type": "stream",
     "text": [
      "1 log PriorityItem(priority='P2', item='#0000')\n",
      "2 log PriorityItem(priority='P0', item='#0001')\n",
      "3 log PriorityItem(priority='P3', item='#0002')\n",
      "3 repair PriorityItem(priority='P0', item='#0001')\n",
      "4 log PriorityItem(priority='P1', item='#0003')\n",
      "6 repair PriorityItem(priority='P1', item='#0003')\n",
      "9 repair PriorityItem(priority='P2', item='#0000')\n",
      "12 repair PriorityItem(priority='P3', item='#0002')\n"
     ]
    }
   ],
   "source": [
    ">>> env = simpy.Environment()\n",
    ">>> issues = simpy.PriorityStore(env)\n",
    ">>>\n",
    ">>> def inspector(env, issues):\n",
    "...     for issue in [simpy.PriorityItem('P2', '#0000'),\n",
    "...                   simpy.PriorityItem('P0', '#0001'),\n",
    "...                   simpy.PriorityItem('P3', '#0002'),\n",
    "...                   simpy.PriorityItem('P1', '#0003')]:\n",
    "...         yield env.timeout(1)\n",
    "...         print(env.now, 'log', issue)\n",
    "...         yield issues.put(issue)\n",
    ">>>\n",
    ">>> def maintainer(env, issues):\n",
    "...     while True:\n",
    "...         yield env.timeout(3)\n",
    "...         issue = yield issues.get()\n",
    "...         print(env.now, 'repair', issue)\n",
    ">>>\n",
    ">>> _ = env.process(inspector(env, issues))\n",
    ">>> _ = env.process(maintainer(env, issues))\n",
    ">>> env.run()"
   ]
  },
  {
   "cell_type": "code",
   "execution_count": 32,
   "metadata": {},
   "outputs": [
    {
     "name": "stdout",
     "output_type": "stream",
     "text": [
      "Simulation is too slow\n"
     ]
    }
   ],
   "source": [
    ">>> import time\n",
    ">>> import simpy.rt\n",
    ">>>\n",
    ">>> def slow_proc(env):\n",
    "...     time.sleep(0.02)  # Heavy computation :-)\n",
    "...     yield env.timeout(1)\n",
    ">>>\n",
    ">>> env = simpy.rt.RealtimeEnvironment(factor=0.01)\n",
    ">>> proc = env.process(slow_proc(env))\n",
    ">>> try:\n",
    "...     env.run(until=proc)\n",
    "...     print('Everything alright')\n",
    "... except RuntimeError:\n",
    "...     print('Simulation is too slow')"
   ]
  },
  {
   "cell_type": "code",
   "execution_count": 33,
   "metadata": {},
   "outputs": [
    {
     "name": "stdout",
     "output_type": "stream",
     "text": [
      "Duration of one simulation time unit: 0.00s\n"
     ]
    }
   ],
   "source": [
    ">>> import time\n",
    ">>> import simpy\n",
    ">>>\n",
    ">>> def example(env):\n",
    "...     start = time.perf_counter()\n",
    "...     yield env.timeout(1)\n",
    "...     end = time.perf_counter()\n",
    "...     print('Duration of one simulation time unit: %.2fs' % (end - start))\n",
    ">>>\n",
    ">>> env = simpy.Environment()\n",
    ">>> proc = env.process(example(env))\n",
    ">>> env.run(until=proc)"
   ]
  },
  {
   "cell_type": "code",
   "execution_count": 34,
   "metadata": {},
   "outputs": [
    {
     "name": "stdout",
     "output_type": "stream",
     "text": [
      "Duration of one simulation time unit: 0.12s\n"
     ]
    }
   ],
   "source": [
    ">>> import simpy.rt\n",
    ">>> env = simpy.rt.RealtimeEnvironment(factor=0.1)\n",
    ">>> proc = env.process(example(env))\n",
    ">>> env.run(until=proc)"
   ]
  },
  {
   "cell_type": "code",
   "execution_count": 35,
   "metadata": {},
   "outputs": [
    {
     "name": "stdout",
     "output_type": "stream",
     "text": [
      "Everything alright\n"
     ]
    }
   ],
   "source": [
    ">>> env = simpy.rt.RealtimeEnvironment(factor=0.01, strict=False)\n",
    ">>> proc = env.process(slow_proc(env))\n",
    ">>> try:\n",
    "...     env.run(until=proc)\n",
    "...     print('Everything alright')\n",
    "... except RuntimeError:\n",
    "...     print('Simulation is too slow')"
   ]
  },
  {
   "cell_type": "code",
   "execution_count": 36,
   "metadata": {},
   "outputs": [
    {
     "name": "stdout",
     "output_type": "stream",
     "text": [
      "Collected [0, 1, 3, 6, 10]\n"
     ]
    }
   ],
   "source": [
    ">>> import simpy\n",
    ">>>\n",
    ">>> data = []  # This list will hold all collected data\n",
    ">>>\n",
    ">>> def test_process(env, data):\n",
    "...     val = 0\n",
    "...     for i in range(5):\n",
    "...         val += env.now\n",
    "...         data.append(val)  # Collect data\n",
    "...         yield env.timeout(1)\n",
    ">>>\n",
    ">>> env = simpy.Environment()\n",
    ">>> p = env.process(test_process(env, data))\n",
    ">>> env.run(p)\n",
    ">>> print('Collected', data)  # Lets see what we got"
   ]
  },
  {
   "cell_type": "code",
   "execution_count": null,
   "metadata": {},
   "outputs": [],
   "source": []
  }
 ],
 "metadata": {
  "kernelspec": {
   "display_name": "Python 3",
   "language": "python",
   "name": "python3"
  },
  "language_info": {
   "codemirror_mode": {
    "name": "ipython",
    "version": 3
   },
   "file_extension": ".py",
   "mimetype": "text/x-python",
   "name": "python",
   "nbconvert_exporter": "python",
   "pygments_lexer": "ipython3",
   "version": "3.8.5"
  }
 },
 "nbformat": 4,
 "nbformat_minor": 5
}
